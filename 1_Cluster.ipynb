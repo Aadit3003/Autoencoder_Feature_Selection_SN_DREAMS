{
  "nbformat": 4,
  "nbformat_minor": 0,
  "metadata": {
    "colab": {
      "name": "Cluster.ipynb",
      "provenance": [],
      "collapsed_sections": [
        "iSSTA9g44fTB",
        "6Mydnf3H_OLq",
        "3869C37R5pcw"
      ]
    },
    "kernelspec": {
      "name": "python3",
      "display_name": "Python 3"
    },
    "language_info": {
      "name": "python"
    }
  },
  "cells": [
    {
      "cell_type": "code",
      "execution_count": null,
      "metadata": {
        "id": "YRTPGQqFLpdi"
      },
      "outputs": [],
      "source": [
        "import numpy as np\n",
        "import pandas as pd\n",
        "import matplotlib.pyplot as plt\n",
        "from sklearn.preprocessing import StandardScaler, Normalizer\n",
        "from sklearn.compose import ColumnTransformer "
      ]
    },
    {
      "cell_type": "markdown",
      "source": [
        ""
      ],
      "metadata": {
        "id": "IUFr2AEToKPp"
      }
    },
    {
      "cell_type": "code",
      "source": [
        "# Extract Column Names\n",
        "import csv\n",
        "with open(\"Modified.csv\", 'r') as file:\n",
        "    csvreader = csv.reader(file)\n",
        "    column_names = next(csvreader)\n",
        "    \n",
        "print(column_names)"
      ],
      "metadata": {
        "colab": {
          "base_uri": "https://localhost:8080/"
        },
        "id": "CCgaWNLH0f-I",
        "outputId": "d2277a5c-e326-43dd-b105-979498e23ae5"
      },
      "execution_count": null,
      "outputs": [
        {
          "output_type": "stream",
          "name": "stdout",
          "text": [
            "['gen_cat', 'Hypertension_cat', 'IHD_cat', 'insulin_treatment_cat', 'fam_his_diab_cat', 'bp_sys', 'Physical_AS_cat', 'ann_family_in', 'HbA1c_grade_cat', 'agegrp_cat', 'BMIcat', 'DurYrs', 'FBS_Grp_cat', 'DR']\n"
          ]
        }
      ]
    },
    {
      "cell_type": "markdown",
      "source": [
        "# Preprocessing"
      ],
      "metadata": {
        "id": "8VLVBtdW4irh"
      }
    },
    {
      "cell_type": "code",
      "source": [
        "dataset = pd.read_csv(\"Modified.csv\")\n",
        "X = dataset.iloc[:,:-1].values"
      ],
      "metadata": {
        "id": "5ke__OTsNQtN"
      },
      "execution_count": null,
      "outputs": []
    },
    {
      "cell_type": "code",
      "source": [
        "# Auxiliary Printing Functions\n",
        "\n",
        "def print_patient(i, transposed_array):\n",
        "  for j in range(transposed_array.shape[0]):\n",
        "    print(\"Attribute \",j, \" is: \",transposed_array[j][i])\n",
        "\n",
        "def print_Attribute(cluster_array):\n",
        "  i = 0\n",
        "  cluster_0 = []\n",
        "  cluster_1 = []\n",
        "  for index in cluster_array:\n",
        "    if index==0:\n",
        "      cluster_0.append(i)\n",
        "    if index==1:\n",
        "      cluster_1.append(i)\n",
        "    i=i+1\n",
        "    \n",
        "  print_cluster(cluster_0, 0)\n",
        "  print()\n",
        "  print_cluster(cluster_1, 1)\n",
        "\n",
        "\n",
        "def print_cluster(indices, num):\n",
        "  print(\"Cluster \",num,\" Attributes are:\")\n",
        "  for index in indices:\n",
        "    print(\" \",column_names[index])"
      ],
      "metadata": {
        "id": "3nuoCDvwzpwW"
      },
      "execution_count": null,
      "outputs": []
    },
    {
      "cell_type": "markdown",
      "source": [
        ""
      ],
      "metadata": {
        "id": "y3S4F1nZoKJm"
      }
    },
    {
      "cell_type": "code",
      "source": [
        "sc = StandardScaler()\n",
        "X = sc.fit_transform(X)\n",
        "\n",
        "X_prime = np.transpose(X)"
      ],
      "metadata": {
        "id": "D_s9w7mhZGFo"
      },
      "execution_count": null,
      "outputs": []
    },
    {
      "cell_type": "code",
      "source": [
        "print(\"Shape of X is \", X.shape)\n",
        "print(\"Shape of X_prime is \", X_prime.shape)"
      ],
      "metadata": {
        "colab": {
          "base_uri": "https://localhost:8080/"
        },
        "id": "-RhEKCO2UT_y",
        "outputId": "d0813daa-d880-4957-a427-7842de6260f4"
      },
      "execution_count": null,
      "outputs": [
        {
          "output_type": "stream",
          "name": "stdout",
          "text": [
            "Shape of X is  (1555, 13)\n",
            "Shape of X_prime is  (13, 1555)\n"
          ]
        }
      ]
    },
    {
      "cell_type": "code",
      "source": [
        "print_patient(2, X_prime)"
      ],
      "metadata": {
        "id": "B-m9obVrQWFK",
        "outputId": "3abed725-121d-434b-f698-4ac90ee2e7fa",
        "colab": {
          "base_uri": "https://localhost:8080/"
        }
      },
      "execution_count": null,
      "outputs": [
        {
          "output_type": "stream",
          "name": "stdout",
          "text": [
            "Attribute  0  is:  1.0481009109661872\n",
            "Attribute  1  is:  0.7077889875981761\n",
            "Attribute  2  is:  0.35495866706171625\n",
            "Attribute  3  is:  -0.32648344853873473\n",
            "Attribute  4  is:  -0.8374442729426622\n",
            "Attribute  5  is:  0.7396367268254443\n",
            "Attribute  6  is:  -0.9535270502862265\n",
            "Attribute  7  is:  -0.42125667810578554\n",
            "Attribute  8  is:  -1.6473006386169227\n",
            "Attribute  9  is:  1.8472767685597935\n",
            "Attribute  10  is:  -0.42913740030261033\n",
            "Attribute  11  is:  -0.49115723537003214\n",
            "Attribute  12  is:  -0.9752263836528662\n"
          ]
        }
      ]
    },
    {
      "cell_type": "markdown",
      "source": [
        "# Clustering"
      ],
      "metadata": {
        "id": "iSSTA9g44fTB"
      }
    },
    {
      "cell_type": "markdown",
      "source": [
        "### K-Means"
      ],
      "metadata": {
        "id": "6Mydnf3H_OLq"
      }
    },
    {
      "cell_type": "code",
      "source": [
        "from sklearn.cluster import KMeans, FeatureAgglomeration, AgglomerativeClustering, MeanShift"
      ],
      "metadata": {
        "id": "eJ4XFlR-4ulr"
      },
      "execution_count": null,
      "outputs": []
    },
    {
      "cell_type": "code",
      "source": [
        "kmeans = KMeans(n_clusters = 2, init=\"k-means++\",random_state=0)\n",
        "\n",
        "y_kmeans = kmeans.fit_predict(X_prime)"
      ],
      "metadata": {
        "id": "hUBdrVnUNxYR"
      },
      "execution_count": null,
      "outputs": []
    },
    {
      "cell_type": "code",
      "source": [
        "print(y_kmeans)"
      ],
      "metadata": {
        "colab": {
          "base_uri": "https://localhost:8080/"
        },
        "id": "j_UI4rC_OIUw",
        "outputId": "1510ccc8-7db1-4ce6-905d-4cf6f0cad6a3"
      },
      "execution_count": null,
      "outputs": [
        {
          "output_type": "stream",
          "name": "stdout",
          "text": [
            "[0 1 1 1 1 0 1 1 0 0 1 0 0]\n"
          ]
        }
      ]
    },
    {
      "cell_type": "code",
      "source": [
        "print_Attribute(y_kmeans)"
      ],
      "metadata": {
        "colab": {
          "base_uri": "https://localhost:8080/"
        },
        "id": "F4Vm-3V50AyX",
        "outputId": "ea0e38e3-0800-4b79-97e1-51b92b68f323"
      },
      "execution_count": null,
      "outputs": [
        {
          "output_type": "stream",
          "name": "stdout",
          "text": [
            "Cluster  0  Attributes are:\n",
            "  gen_cat\n",
            "  bp_sys\n",
            "  HbA1c_grade_cat\n",
            "  agegrp_cat\n",
            "  DurYrs\n",
            "  FBS_Grp_cat\n",
            "\n",
            "Cluster  1  Attributes are:\n",
            "  Hypertension_cat\n",
            "  IHD_cat\n",
            "  insulin_treatment_cat\n",
            "  fam_his_diab_cat\n",
            "  Physical_AS_cat\n",
            "  ann_family_in\n",
            "  BMIcat\n"
          ]
        }
      ]
    },
    {
      "cell_type": "markdown",
      "source": [
        "### Agglomerative Clustering"
      ],
      "metadata": {
        "id": "Bw-QGFD5_RM7"
      }
    },
    {
      "cell_type": "code",
      "source": [
        "clustering = AgglomerativeClustering().fit(X_prime)\n",
        "labels = clustering.labels_\n",
        "print(labels)"
      ],
      "metadata": {
        "colab": {
          "base_uri": "https://localhost:8080/"
        },
        "id": "a2egryqP_UIi",
        "outputId": "7b8318dc-416b-4b75-9fef-04493bcffd6a"
      },
      "execution_count": null,
      "outputs": [
        {
          "output_type": "stream",
          "name": "stdout",
          "text": [
            "[0 1 1 1 0 0 1 1 0 0 0 0 0]\n"
          ]
        }
      ]
    },
    {
      "cell_type": "code",
      "source": [
        "print_Attribute(labels)"
      ],
      "metadata": {
        "colab": {
          "base_uri": "https://localhost:8080/"
        },
        "id": "ui3x0i38_-dU",
        "outputId": "52d6083a-3d79-49b9-ce04-540a912691e2"
      },
      "execution_count": null,
      "outputs": [
        {
          "output_type": "stream",
          "name": "stdout",
          "text": [
            "Cluster  0  Attributes are:\n",
            "  gen_cat\n",
            "  fam_his_diab_cat\n",
            "  bp_sys\n",
            "  HbA1c_grade_cat\n",
            "  agegrp_cat\n",
            "  BMIcat\n",
            "  DurYrs\n",
            "  FBS_Grp_cat\n",
            "\n",
            "Cluster  1  Attributes are:\n",
            "  Hypertension_cat\n",
            "  IHD_cat\n",
            "  insulin_treatment_cat\n",
            "  Physical_AS_cat\n",
            "  ann_family_in\n"
          ]
        }
      ]
    },
    {
      "cell_type": "markdown",
      "source": [
        "# Visualization with TSNE"
      ],
      "metadata": {
        "id": "3869C37R5pcw"
      }
    },
    {
      "cell_type": "code",
      "source": [
        "from sklearn.manifold import TSNE"
      ],
      "metadata": {
        "id": "-RSWba535o91"
      },
      "execution_count": null,
      "outputs": []
    },
    {
      "cell_type": "code",
      "source": [
        "X_embedding = TSNE(n_components=2, perplexity = 2, learning_rate='auto', init='random').fit_transform(X_prime)\n",
        "print(X_embedding.shape)"
      ],
      "metadata": {
        "colab": {
          "base_uri": "https://localhost:8080/"
        },
        "id": "gjbR1OCj5wZO",
        "outputId": "ee4924e8-216b-4c4f-df77-74b583552a2a"
      },
      "execution_count": null,
      "outputs": [
        {
          "output_type": "stream",
          "name": "stdout",
          "text": [
            "(13, 2)\n"
          ]
        }
      ]
    },
    {
      "cell_type": "code",
      "source": [
        "def scatter(X): \n",
        "    # X is the transposed embedding\n",
        "    fig, ax = plt.subplots(figsize=(10, 7.5))\n",
        "    x = X[:, 0]\n",
        "    y = X[:, 1]\n",
        "    for i in range (X.shape[0]):\n",
        "      plt.text(X[i][0], X[i][1], column_names[i], fontsize = 15)\n",
        "    plt.scatter(x, y)\n",
        "    \n",
        "    plt.show()"
      ],
      "metadata": {
        "id": "LQ8I4r435_rd"
      },
      "execution_count": null,
      "outputs": []
    },
    {
      "cell_type": "code",
      "source": [
        "scatter(X_embedding)"
      ],
      "metadata": {
        "colab": {
          "base_uri": "https://localhost:8080/",
          "height": 456
        },
        "id": "ey9EBdaz6F6O",
        "outputId": "c9d98888-46e8-4560-95a7-eb67b12531d9"
      },
      "execution_count": null,
      "outputs": [
        {
          "output_type": "display_data",
          "data": {
            "text/plain": [
              "<Figure size 720x540 with 1 Axes>"
            ],
            "image/png": "[encoded data removed]"
          },
          "metadata": {
            "needs_background": "light"
          }
        }
      ]
    }
  ]
}