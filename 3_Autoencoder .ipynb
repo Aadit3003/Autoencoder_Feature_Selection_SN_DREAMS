{
  "nbformat": 4,
  "nbformat_minor": 0,
  "metadata": {
    "colab": {
      "name": "Autoencoder.ipynb",
      "provenance": [],
      "collapsed_sections": []
    },
    "kernelspec": {
      "name": "python3",
      "display_name": "Python 3"
    },
    "language_info": {
      "name": "python"
    }
  },
  "cells": [
    {
      "cell_type": "markdown",
      "source": [
        "# Import Libraries and Read Data"
      ],
      "metadata": {
        "id": "2tjJJl-eHEpz"
      }
    },
    {
      "cell_type": "code",
      "execution_count": 171,
      "metadata": {
        "id": "YRTPGQqFLpdi"
      },
      "outputs": [],
      "source": [
        "import numpy as np\n",
        "import pandas as pd\n",
        "import matplotlib.pyplot as plt\n",
        "from sklearn.preprocessing import StandardScaler, Normalizer\n",
        "from sklearn.model_selection import train_test_split\n",
        "import os"
      ]
    },
    {
      "cell_type": "code",
      "source": [
        "from google.colab import drive\n",
        "drive.mount('/content/drive')\n",
        "\n",
        "%cd /content/drive/My Drive/\n",
        "\n",
        "import csv\n",
        "with open(\"Modified.csv\", 'r') as file:\n",
        "    csvreader = csv.reader(file)\n",
        "    column_names = next(csvreader)\n",
        "    \n",
        "print(column_names)"
      ],
      "metadata": {
        "colab": {
          "base_uri": "https://localhost:8080/"
        },
        "id": "GeXRbVtpNewI",
        "outputId": "640b51a3-4462-4723-9d03-bdfd15d51ae8"
      },
      "execution_count": 172,
      "outputs": [
        {
          "output_type": "stream",
          "name": "stdout",
          "text": [
            "Drive already mounted at /content/drive; to attempt to forcibly remount, call drive.mount(\"/content/drive\", force_remount=True).\n",
            "/content/drive/My Drive\n",
            "['gen_cat', 'Hypertension_cat', 'IHD_cat', 'insulin_treatment_cat', 'fam_his_diab_cat', 'bp_sys', 'Physical_AS_cat', 'ann_family_in', 'HbA1c_grade_cat', 'agegrp_cat', 'BMIcat', 'DurYrs', 'FBS_Grp_cat', 'DR']\n"
          ]
        }
      ]
    },
    {
      "cell_type": "code",
      "source": [
        "dataset = pd.read_csv(\"Modified.csv\")\n",
        "dataset.head(5)"
      ],
      "metadata": {
        "id": "5ke__OTsNQtN",
        "colab": {
          "base_uri": "https://localhost:8080/",
          "height": 270
        },
        "outputId": "26d11c62-49b0-4502-fffe-baa57af92928"
      },
      "execution_count": 173,
      "outputs": [
        {
          "output_type": "execute_result",
          "data": {
            "text/plain": [
              "   gen_cat  Hypertension_cat  IHD_cat  insulin_treatment_cat  \\\n",
              "0        1                 0        1                      1   \n",
              "1        1                 1        1                      1   \n",
              "2        1                 1        1                      1   \n",
              "3        0                 1        1                      1   \n",
              "4        0                 0        1                      1   \n",
              "\n",
              "   fam_his_diab_cat  bp_sys  Physical_AS_cat  ann_family_in  HbA1c_grade_cat  \\\n",
              "0                 1     160                0          24000                2   \n",
              "1                 0     140                1          24000                1   \n",
              "2                 0     154                0          24000                0   \n",
              "3                 0     130                0         180000                3   \n",
              "4                 0     140                0          18000                4   \n",
              "\n",
              "   agegrp_cat  BMIcat  DurYrs  FBS_Grp_cat  DR  \n",
              "0           2       0    22.0            1   0  \n",
              "1           0       1     0.0            1   0  \n",
              "2           3       1     2.0            0   0  \n",
              "3           0       1     8.0            1   0  \n",
              "4           2       2     6.0            1   0  "
            ],
            "text/html": [
              "\n",
              "  <div id=\"df-7b2af8b4-3ba2-49c8-8b9d-7c601ef73664\">\n",
              "    <div class=\"colab-df-container\">\n",
              "      <div>\n",
              "<style scoped>\n",
              "    .dataframe tbody tr th:only-of-type {\n",
              "        vertical-align: middle;\n",
              "    }\n",
              "\n",
              "    .dataframe tbody tr th {\n",
              "        vertical-align: top;\n",
              "    }\n",
              "\n",
              "    .dataframe thead th {\n",
              "        text-align: right;\n",
              "    }\n",
              "</style>\n",
              "<table border=\"1\" class=\"dataframe\">\n",
              "  <thead>\n",
              "    <tr style=\"text-align: right;\">\n",
              "      <th></th>\n",
              "      <th>gen_cat</th>\n",
              "      <th>Hypertension_cat</th>\n",
              "      <th>IHD_cat</th>\n",
              "      <th>insulin_treatment_cat</th>\n",
              "      <th>fam_his_diab_cat</th>\n",
              "      <th>bp_sys</th>\n",
              "      <th>Physical_AS_cat</th>\n",
              "      <th>ann_family_in</th>\n",
              "      <th>HbA1c_grade_cat</th>\n",
              "      <th>agegrp_cat</th>\n",
              "      <th>BMIcat</th>\n",
              "      <th>DurYrs</th>\n",
              "      <th>FBS_Grp_cat</th>\n",
              "      <th>DR</th>\n",
              "    </tr>\n",
              "  </thead>\n",
              "  <tbody>\n",
              "    <tr>\n",
              "      <th>0</th>\n",
              "      <td>1</td>\n",
              "      <td>0</td>\n",
              "      <td>1</td>\n",
              "      <td>1</td>\n",
              "      <td>1</td>\n",
              "      <td>160</td>\n",
              "      <td>0</td>\n",
              "      <td>24000</td>\n",
              "      <td>2</td>\n",
              "      <td>2</td>\n",
              "      <td>0</td>\n",
              "      <td>22.0</td>\n",
              "      <td>1</td>\n",
              "      <td>0</td>\n",
              "    </tr>\n",
              "    <tr>\n",
              "      <th>1</th>\n",
              "      <td>1</td>\n",
              "      <td>1</td>\n",
              "      <td>1</td>\n",
              "      <td>1</td>\n",
              "      <td>0</td>\n",
              "      <td>140</td>\n",
              "      <td>1</td>\n",
              "      <td>24000</td>\n",
              "      <td>1</td>\n",
              "      <td>0</td>\n",
              "      <td>1</td>\n",
              "      <td>0.0</td>\n",
              "      <td>1</td>\n",
              "      <td>0</td>\n",
              "    </tr>\n",
              "    <tr>\n",
              "      <th>2</th>\n",
              "      <td>1</td>\n",
              "      <td>1</td>\n",
              "      <td>1</td>\n",
              "      <td>1</td>\n",
              "      <td>0</td>\n",
              "      <td>154</td>\n",
              "      <td>0</td>\n",
              "      <td>24000</td>\n",
              "      <td>0</td>\n",
              "      <td>3</td>\n",
              "      <td>1</td>\n",
              "      <td>2.0</td>\n",
              "      <td>0</td>\n",
              "      <td>0</td>\n",
              "    </tr>\n",
              "    <tr>\n",
              "      <th>3</th>\n",
              "      <td>0</td>\n",
              "      <td>1</td>\n",
              "      <td>1</td>\n",
              "      <td>1</td>\n",
              "      <td>0</td>\n",
              "      <td>130</td>\n",
              "      <td>0</td>\n",
              "      <td>180000</td>\n",
              "      <td>3</td>\n",
              "      <td>0</td>\n",
              "      <td>1</td>\n",
              "      <td>8.0</td>\n",
              "      <td>1</td>\n",
              "      <td>0</td>\n",
              "    </tr>\n",
              "    <tr>\n",
              "      <th>4</th>\n",
              "      <td>0</td>\n",
              "      <td>0</td>\n",
              "      <td>1</td>\n",
              "      <td>1</td>\n",
              "      <td>0</td>\n",
              "      <td>140</td>\n",
              "      <td>0</td>\n",
              "      <td>18000</td>\n",
              "      <td>4</td>\n",
              "      <td>2</td>\n",
              "      <td>2</td>\n",
              "      <td>6.0</td>\n",
              "      <td>1</td>\n",
              "      <td>0</td>\n",
              "    </tr>\n",
              "  </tbody>\n",
              "</table>\n",
              "</div>\n",
              "      <button class=\"colab-df-convert\" onclick=\"convertToInteractive('df-7b2af8b4-3ba2-49c8-8b9d-7c601ef73664')\"\n",
              "              title=\"Convert this dataframe to an interactive table.\"\n",
              "              style=\"display:none;\">\n",
              "        \n",
              "  <svg xmlns=\"http://www.w3.org/2000/svg\" height=\"24px\"viewBox=\"0 0 24 24\"\n",
              "       width=\"24px\">\n",
              "    <path d=\"M0 0h24v24H0V0z\" fill=\"none\"/>\n",
              "    <path d=\"M18.56 5.44l.94 2.06.94-2.06 2.06-.94-2.06-.94-.94-2.06-.94 2.06-2.06.94zm-11 1L8.5 8.5l.94-2.06 2.06-.94-2.06-.94L8.5 2.5l-.94 2.06-2.06.94zm10 10l.94 2.06.94-2.06 2.06-.94-2.06-.94-.94-2.06-.94 2.06-2.06.94z\"/><path d=\"M17.41 7.96l-1.37-1.37c-.4-.4-.92-.59-1.43-.59-.52 0-1.04.2-1.43.59L10.3 9.45l-7.72 7.72c-.78.78-.78 2.05 0 2.83L4 21.41c.39.39.9.59 1.41.59.51 0 1.02-.2 1.41-.59l7.78-7.78 2.81-2.81c.8-.78.8-2.07 0-2.86zM5.41 20L4 18.59l7.72-7.72 1.47 1.35L5.41 20z\"/>\n",
              "  </svg>\n",
              "      </button>\n",
              "      \n",
              "  <style>\n",
              "    .colab-df-container {\n",
              "      display:flex;\n",
              "      flex-wrap:wrap;\n",
              "      gap: 12px;\n",
              "    }\n",
              "\n",
              "    .colab-df-convert {\n",
              "      background-color: #E8F0FE;\n",
              "      border: none;\n",
              "      border-radius: 50%;\n",
              "      cursor: pointer;\n",
              "      display: none;\n",
              "      fill: #1967D2;\n",
              "      height: 32px;\n",
              "      padding: 0 0 0 0;\n",
              "      width: 32px;\n",
              "    }\n",
              "\n",
              "    .colab-df-convert:hover {\n",
              "      background-color: #E2EBFA;\n",
              "      box-shadow: 0px 1px 2px rgba(60, 64, 67, 0.3), 0px 1px 3px 1px rgba(60, 64, 67, 0.15);\n",
              "      fill: #174EA6;\n",
              "    }\n",
              "\n",
              "    [theme=dark] .colab-df-convert {\n",
              "      background-color: #3B4455;\n",
              "      fill: #D2E3FC;\n",
              "    }\n",
              "\n",
              "    [theme=dark] .colab-df-convert:hover {\n",
              "      background-color: #434B5C;\n",
              "      box-shadow: 0px 1px 3px 1px rgba(0, 0, 0, 0.15);\n",
              "      filter: drop-shadow(0px 1px 2px rgba(0, 0, 0, 0.3));\n",
              "      fill: #FFFFFF;\n",
              "    }\n",
              "  </style>\n",
              "\n",
              "      <script>\n",
              "        const buttonEl =\n",
              "          document.querySelector('#df-7b2af8b4-3ba2-49c8-8b9d-7c601ef73664 button.colab-df-convert');\n",
              "        buttonEl.style.display =\n",
              "          google.colab.kernel.accessAllowed ? 'block' : 'none';\n",
              "\n",
              "        async function convertToInteractive(key) {\n",
              "          const element = document.querySelector('#df-7b2af8b4-3ba2-49c8-8b9d-7c601ef73664');\n",
              "          const dataTable =\n",
              "            await google.colab.kernel.invokeFunction('convertToInteractive',\n",
              "                                                     [key], {});\n",
              "          if (!dataTable) return;\n",
              "\n",
              "          const docLinkHtml = 'Like what you see? Visit the ' +\n",
              "            '<a target=\"_blank\" href=https://colab.research.google.com/notebooks/data_table.ipynb>data table notebook</a>'\n",
              "            + ' to learn more about interactive tables.';\n",
              "          element.innerHTML = '';\n",
              "          dataTable['output_type'] = 'display_data';\n",
              "          await google.colab.output.renderOutput(dataTable, element);\n",
              "          const docLink = document.createElement('div');\n",
              "          docLink.innerHTML = docLinkHtml;\n",
              "          element.appendChild(docLink);\n",
              "        }\n",
              "      </script>\n",
              "    </div>\n",
              "  </div>\n",
              "  "
            ]
          },
          "metadata": {},
          "execution_count": 173
        }
      ]
    },
    {
      "cell_type": "markdown",
      "source": [
        "# Autoencoder Hyperparameters!"
      ],
      "metadata": {
        "id": "1x5Jol-lUNV1"
      }
    },
    {
      "cell_type": "code",
      "source": [
        "# 13 without DR and 13 with DR\n",
        "inout_dims = 14\n",
        "latent_dim = 7"
      ],
      "metadata": {
        "id": "psrt8u_aTr-q"
      },
      "execution_count": 174,
      "outputs": []
    },
    {
      "cell_type": "code",
      "source": [
        "if(inout_dims == 13):\n",
        "  X = dataset.iloc[:, :-1].values\n",
        "else:\n",
        "  X = dataset.iloc[:, :].values"
      ],
      "metadata": {
        "id": "HdVkP3J-ouhL"
      },
      "execution_count": 175,
      "outputs": []
    },
    {
      "cell_type": "markdown",
      "source": [
        "# Train Test Split and Feature Scaling"
      ],
      "metadata": {
        "id": "6iucfCqBpN7u"
      }
    },
    {
      "cell_type": "markdown",
      "source": [
        "### Old Scaler"
      ],
      "metadata": {
        "id": "qyyXEW0--Nfi"
      }
    },
    {
      "cell_type": "code",
      "source": [
        "X_train, X_test = train_test_split(X, test_size = 0.3, random_state = 0)\n",
        "\n",
        "# sc = StandardScaler()\n",
        "# X_train = sc.fit_transform(X_train)\n",
        "# X_test = sc.transform(X_test)\n",
        "\n",
        "# # Get Values between 0 and 1 for the Autoencoder\n",
        "\n",
        "\n",
        "# sc = Normalizer() \n",
        "# X_train = sc.fit_transform(X_train)\n",
        "# X_test = sc.transform(X_test)"
      ],
      "metadata": {
        "id": "azar0BWapXIO"
      },
      "execution_count": 176,
      "outputs": []
    },
    {
      "cell_type": "markdown",
      "source": [
        "### New Continuous Scaler"
      ],
      "metadata": {
        "id": "1_qSrkw0-efo"
      }
    },
    {
      "cell_type": "code",
      "source": [
        "continuous_cols = []\n",
        "categorical_cols = []\n",
        "for i in range(0,X.shape[1]):\n",
        "  \n",
        "  if dataset.columns[i].find(\"cat\")!=-1:\n",
        "    categorical_cols.append(i)\n",
        "  else:\n",
        "    continuous_cols.append(i)\n",
        "\n",
        "print(dataset.columns[continuous_cols])\n",
        "print(dataset.columns[categorical_cols])"
      ],
      "metadata": {
        "colab": {
          "base_uri": "https://localhost:8080/"
        },
        "id": "Sh9tW7aJoSMc",
        "outputId": "d65aef5b-4f0d-4d7b-f4af-cc47cde7f658"
      },
      "execution_count": 177,
      "outputs": [
        {
          "output_type": "stream",
          "name": "stdout",
          "text": [
            "Index(['bp_sys', 'ann_family_in', 'DurYrs', 'DR'], dtype='object')\n",
            "Index(['gen_cat', 'Hypertension_cat', 'IHD_cat', 'insulin_treatment_cat',\n",
            "       'fam_his_diab_cat', 'Physical_AS_cat', 'HbA1c_grade_cat', 'agegrp_cat',\n",
            "       'BMIcat', 'FBS_Grp_cat'],\n",
            "      dtype='object')\n"
          ]
        }
      ]
    },
    {
      "cell_type": "code",
      "source": [
        "scaler = StandardScaler()\n",
        "X_tr = scaler.fit_transform(X_train[:,continuous_cols])\n",
        "X_train = np.concatenate((X_tr,X_train[:,categorical_cols]),axis=1)\n",
        "X_te = scaler.transform(X_test[:,continuous_cols])\n",
        "X_test = np.concatenate((X_te,X_test[:,categorical_cols]),axis=1)"
      ],
      "metadata": {
        "id": "LaEx9V6sDDt2"
      },
      "execution_count": 178,
      "outputs": []
    },
    {
      "cell_type": "code",
      "source": [
        "print(X_train.shape)\n",
        "print(X_test.shape)"
      ],
      "metadata": {
        "colab": {
          "base_uri": "https://localhost:8080/"
        },
        "id": "Fvo1AveEo5wa",
        "outputId": "5b745445-318e-4e3e-8960-facf9d52bf19"
      },
      "execution_count": 179,
      "outputs": [
        {
          "output_type": "stream",
          "name": "stdout",
          "text": [
            "(1088, 14)\n",
            "(467, 14)\n"
          ]
        }
      ]
    },
    {
      "cell_type": "code",
      "source": [
        "print(X_test)"
      ],
      "metadata": {
        "colab": {
          "base_uri": "https://localhost:8080/"
        },
        "id": "aT72OUtZUaEK",
        "outputId": "3baad362-7a19-44c8-9032-202827840958"
      },
      "execution_count": 180,
      "outputs": [
        {
          "output_type": "stream",
          "name": "stdout",
          "text": [
            "[[ 5.64796339e-01 -3.80842699e-01  2.45292950e+00 ...  2.00000000e+00\n",
            "   2.00000000e+00  1.00000000e+00]\n",
            " [-1.41267242e+00  2.83620758e-01  1.63367745e+00 ...  1.00000000e+00\n",
            "   1.00000000e+00  1.00000000e+00]\n",
            " [ 7.04291493e-02  2.83620758e-01 -8.24078714e-01 ...  1.00000000e+00\n",
            "   0.00000000e+00  1.00000000e+00]\n",
            " ...\n",
            " [-1.90703961e+00 -4.31955272e-01  3.22874162e-01 ...  1.00000000e+00\n",
            "   1.00000000e+00  1.00000000e+00]\n",
            " [-9.18305230e-01  8.46163253e+00 -4.82665962e-03 ...  2.00000000e+00\n",
            "   1.00000000e+00  1.00000000e+00]\n",
            " [ 5.64796339e-01 -5.34180419e-01 -4.96377892e-01 ...  2.00000000e+00\n",
            "   1.00000000e+00  0.00000000e+00]]\n"
          ]
        }
      ]
    },
    {
      "cell_type": "markdown",
      "source": [
        "# Dimensionality Reduction with Autoencoders"
      ],
      "metadata": {
        "id": "CpSF5NnDLeUs"
      }
    },
    {
      "cell_type": "code",
      "source": [
        "import os\n",
        "import tensorflow as tf\n",
        "from tensorflow.keras import layers, losses\n",
        "from tensorflow.keras.models import Model"
      ],
      "metadata": {
        "id": "c9vw8-aHLmYq"
      },
      "execution_count": 181,
      "outputs": []
    },
    {
      "cell_type": "markdown",
      "source": [
        "# Single-Layer Autoencoder with ReLU activation"
      ],
      "metadata": {
        "id": "EwAN24ZHQEH0"
      }
    },
    {
      "cell_type": "code",
      "source": [
        "class Autoencoder(Model):\n",
        "  def __init__(self, latent_dim, inout_dims):\n",
        "    super(Autoencoder, self).__init__()\n",
        "    self.latent_dim = latent_dim\n",
        "\n",
        "    self.encoder = tf.keras.Sequential(\n",
        "        [\n",
        "         layers.InputLayer(input_shape=(inout_dims,)),\n",
        "         layers.Dense(latent_dim, activation = 'relu') # latent_dim is 7\n",
        "       ], name = 'Code_Layer'\n",
        "    )\n",
        "\n",
        "    self.decoder = tf.keras.Sequential(\n",
        "        [\n",
        "         layers.Dense(inout_dims, activation = 'relu')\n",
        "       ], name = 'Output_Layer'\n",
        "    )\n",
        "\n",
        "  def call(self, inputs):\n",
        "    encoded = self.encoder(inputs)\n",
        "    decoded = self.decoder(encoded)\n",
        "    return decoded\n",
        "\n",
        "autoencoder = Autoencoder(latent_dim = latent_dim, inout_dims = inout_dims)\n",
        "\n",
        "autoencoder.compile(optimizer = 'adam', loss = losses.MeanAbsoluteError())\n"
      ],
      "metadata": {
        "id": "awOujsK_OATA"
      },
      "execution_count": 182,
      "outputs": []
    },
    {
      "cell_type": "markdown",
      "source": [
        "# Save Weights on a Good Result"
      ],
      "metadata": {
        "id": "rjG5DuX8S4Jd"
      }
    },
    {
      "cell_type": "markdown",
      "source": [
        "## Training"
      ],
      "metadata": {
        "id": "hIhSSkTCOtZN"
      }
    },
    {
      "cell_type": "code",
      "source": [
        "!cd K:"
      ],
      "metadata": {
        "colab": {
          "base_uri": "https://localhost:8080/"
        },
        "id": "qS_OO0nUQZqz",
        "outputId": "8049a9d0-5374-49b9-cd0b-9f17640221d6"
      },
      "execution_count": 183,
      "outputs": [
        {
          "output_type": "stream",
          "name": "stdout",
          "text": [
            "/bin/bash: line 0: cd: K:: No such file or directory\n"
          ]
        }
      ]
    },
    {
      "cell_type": "code",
      "source": [
        "checkpoint_path = \"Autoencoder_weights/cp.ckpt\"\n",
        "#checkpoint_path = \"K:/My Drive/Autoencoder_weights/cp.ckpt\"\n",
        "checkpoint_dir = os.path.dirname(checkpoint_path)\n",
        "\n",
        "# Create a callback that saves the model's weights\n",
        "cp_callback = tf.keras.callbacks.ModelCheckpoint(filepath=checkpoint_path,\n",
        "                                                 save_weights_only=True,\n",
        "                                                 verbose=1)\n",
        "\n",
        "history = autoencoder.fit(X_train, X_train, epochs = 15, validation_data = (X_test, X_test))\n",
        "\n",
        "autoencoder.summary()"
      ],
      "metadata": {
        "colab": {
          "base_uri": "https://localhost:8080/"
        },
        "id": "qzmFg1DI2w-t",
        "outputId": "253986d2-56fc-4d75-d090-d65741230b07"
      },
      "execution_count": 184,
      "outputs": [
        {
          "output_type": "stream",
          "name": "stdout",
          "text": [
            "Epoch 1/15\n",
            "34/34 [==============================] - 1s 7ms/step - loss: 0.8422 - val_loss: 0.8159\n",
            "Epoch 2/15\n",
            "34/34 [==============================] - 0s 3ms/step - loss: 0.7887 - val_loss: 0.7719\n",
            "Epoch 3/15\n",
            "34/34 [==============================] - 0s 3ms/step - loss: 0.7458 - val_loss: 0.7353\n",
            "Epoch 4/15\n",
            "34/34 [==============================] - 0s 4ms/step - loss: 0.7129 - val_loss: 0.7131\n",
            "Epoch 5/15\n",
            "34/34 [==============================] - 0s 4ms/step - loss: 0.6956 - val_loss: 0.7011\n",
            "Epoch 6/15\n",
            "34/34 [==============================] - 0s 4ms/step - loss: 0.6824 - val_loss: 0.6847\n",
            "Epoch 7/15\n",
            "34/34 [==============================] - 0s 3ms/step - loss: 0.6467 - val_loss: 0.6389\n",
            "Epoch 8/15\n",
            "34/34 [==============================] - 0s 3ms/step - loss: 0.6117 - val_loss: 0.6223\n",
            "Epoch 9/15\n",
            "34/34 [==============================] - 0s 3ms/step - loss: 0.5987 - val_loss: 0.6117\n",
            "Epoch 10/15\n",
            "34/34 [==============================] - 0s 3ms/step - loss: 0.5834 - val_loss: 0.5904\n",
            "Epoch 11/15\n",
            "34/34 [==============================] - 0s 3ms/step - loss: 0.5602 - val_loss: 0.5716\n",
            "Epoch 12/15\n",
            "34/34 [==============================] - 0s 5ms/step - loss: 0.5467 - val_loss: 0.5587\n",
            "Epoch 13/15\n",
            "34/34 [==============================] - 0s 3ms/step - loss: 0.5346 - val_loss: 0.5479\n",
            "Epoch 14/15\n",
            "34/34 [==============================] - 0s 3ms/step - loss: 0.5243 - val_loss: 0.5385\n",
            "Epoch 15/15\n",
            "34/34 [==============================] - 0s 3ms/step - loss: 0.5153 - val_loss: 0.5300\n",
            "Model: \"autoencoder_6\"\n",
            "_________________________________________________________________\n",
            " Layer (type)                Output Shape              Param #   \n",
            "=================================================================\n",
            " Code_Layer (Sequential)     (None, 7)                 105       \n",
            "                                                                 \n",
            " Output_Layer (Sequential)   (None, 14)                112       \n",
            "                                                                 \n",
            "=================================================================\n",
            "Total params: 217\n",
            "Trainable params: 217\n",
            "Non-trainable params: 0\n",
            "_________________________________________________________________\n"
          ]
        }
      ]
    },
    {
      "cell_type": "code",
      "source": [
        "os.listdir(checkpoint_dir)"
      ],
      "metadata": {
        "colab": {
          "base_uri": "https://localhost:8080/"
        },
        "id": "zaX7Yw6JO7sA",
        "outputId": "1e44f3ed-b4bb-4e28-a8f3-0755fd29d874"
      },
      "execution_count": 185,
      "outputs": [
        {
          "output_type": "execute_result",
          "data": {
            "text/plain": [
              "[]"
            ]
          },
          "metadata": {},
          "execution_count": 185
        }
      ]
    },
    {
      "cell_type": "markdown",
      "source": [
        "# Score Features by weights learned by the Code Layer"
      ],
      "metadata": {
        "id": "U0jeQujDWbbo"
      }
    },
    {
      "cell_type": "code",
      "source": [
        "encoder_layer = autoencoder.get_layer('Code_Layer')\n",
        "print(encoder_layer.input_shape)\n",
        "print(encoder_layer.output_shape)"
      ],
      "metadata": {
        "colab": {
          "base_uri": "https://localhost:8080/"
        },
        "id": "Lo3gl--tHe58",
        "outputId": "f253c751-d588-4fe0-d90d-fbf91f5b744a"
      },
      "execution_count": 186,
      "outputs": [
        {
          "output_type": "stream",
          "name": "stdout",
          "text": [
            "(None, 14)\n",
            "(None, 7)\n"
          ]
        }
      ]
    },
    {
      "cell_type": "code",
      "source": [
        "# Just Sum across the rows and get the score_weights for each feature!!\n",
        "score_weights = []\n",
        "weights, bias = encoder_layer.get_weights()  # Gives the weights (7, 13) AND bias (7, 1) !!\n",
        "\n",
        "# print(weights.shape)\n",
        "print(\"WEIGHTS:\")\n",
        "print(weights)\n",
        "\n",
        "print()\n",
        "score_weights = np.sum(weights, axis = 1)\n",
        "print(\"SCORE_WEIGHTS:\")\n",
        "print(score_weights)"
      ],
      "metadata": {
        "colab": {
          "base_uri": "https://localhost:8080/"
        },
        "id": "bw2Vy1VJOYrY",
        "outputId": "f1588b9d-0e21-4830-8d97-f906c601be54"
      },
      "execution_count": 187,
      "outputs": [
        {
          "output_type": "stream",
          "name": "stdout",
          "text": [
            "WEIGHTS:\n",
            "[[-0.04211265 -0.21287672 -0.26577607 -0.27709788 -0.02921104  0.10187366\n",
            "  -0.11471162]\n",
            " [-0.03443978 -0.08403156 -0.24779265  0.11259139 -0.28032076 -0.0311311\n",
            "  -0.04591008]\n",
            " [-0.20437436  0.29625994 -0.12092841 -0.2167179  -0.18368562  0.08865235\n",
            "   0.02891091]\n",
            " [-0.53807735 -0.16868266  0.33417395  0.14266333  0.24348475  0.22191325\n",
            "   0.22833264]\n",
            " [-0.12457169 -0.32943642 -0.45998505  0.2870218   0.1159327   0.19706781\n",
            "  -0.02879311]\n",
            " [ 0.06159458 -0.12556297  0.299098    0.08915604 -0.0065519   0.436471\n",
            "   0.28824922]\n",
            " [ 0.43896925 -0.4099379   0.0559241   0.32263008  0.26785016  0.32155564\n",
            "  -0.20308065]\n",
            " [ 0.3130726  -0.31802762 -0.41887468 -0.34151506  0.391004    0.45281503\n",
            "   0.17556351]\n",
            " [ 0.04243265 -0.36396527 -0.43080473  0.2685622   0.75331146 -0.06384856\n",
            "   0.5759698 ]\n",
            " [ 0.2664344  -0.36622894  0.2956593  -0.6389846   0.38799697  0.11488265\n",
            "   0.00784941]\n",
            " [-0.22330987 -0.09737973 -0.283811    0.12372562 -0.08114727  0.924636\n",
            "  -0.25156066]\n",
            " [ 0.34000397  0.3921529  -0.40370852 -0.5971216   0.09512276 -0.12491582\n",
            "   0.10300375]\n",
            " [ 0.23340544  0.0424843  -0.24800827 -0.03009904 -0.2510742   0.62977374\n",
            "   0.7469077 ]\n",
            " [-0.19407414 -0.4915496   0.4085895  -0.46360865 -0.04298716  0.4972665\n",
            "  -0.1752572 ]]\n",
            "\n",
            "SCORE_WEIGHTS:\n",
            "[-0.83991235 -0.6110345  -0.3118831   0.46380788 -0.34276396  1.042454\n",
            "  0.79391074  0.2540378   0.7816576   0.06760918  0.11115304 -0.19546255\n",
            "  1.1233897  -0.46162078]\n"
          ]
        }
      ]
    },
    {
      "cell_type": "markdown",
      "source": [
        "# Sort Results and Categorize by Threshold"
      ],
      "metadata": {
        "id": "IUKDLRYlCWGm"
      }
    },
    {
      "cell_type": "code",
      "source": [
        "# score_weights = np.zeros(13)\n",
        "column_names = np.array(column_names)\n",
        "names = column_names[:-1]\n",
        "score_weights = np.array(score_weights)\n",
        "\n",
        "if(inout_dims == 13):\n",
        "  name_array = names\n",
        "else:\n",
        "  name_array = column_names\n",
        "\n",
        "\n",
        "comb = np.concatenate((name_array.reshape(len(name_array),1), score_weights.reshape(len(score_weights),1)),1)\n"
      ],
      "metadata": {
        "id": "LjTOJYGlWjr3"
      },
      "execution_count": 188,
      "outputs": []
    },
    {
      "cell_type": "code",
      "source": [
        "import math"
      ],
      "metadata": {
        "id": "l7qwxHP0PPB_"
      },
      "execution_count": 189,
      "outputs": []
    },
    {
      "cell_type": "code",
      "source": [
        "sorted = comb[comb[:,1].argsort()]\n",
        "#print(sorted)\n",
        "#print()\n",
        "\n",
        "median = math.floor(sorted.shape[0]/2) # Index of median element\n",
        "threshold = sorted[median][1]\n",
        "print(\"Threshold is \", threshold)\n",
        "# threshold = float(threshold)\n",
        "# print(type(threshold))\n",
        "\n",
        "\n",
        "def assign_class_labels(comb):\n",
        "  labeled = comb\n",
        "  i = 0\n",
        "  #print(\"Predicted Risk Factor Labels:\")\n",
        "  for pair in comb:\n",
        "    if pair[1] <= threshold:\n",
        "      labeled[i][1] = 2\n",
        "      #print(\"Secondary: \",pair[0])\n",
        "    else:      \n",
        "      labeled[i][1] = 1\n",
        "      #print(\"Primary: \", pair[0])\n",
        "\n",
        "    i = i+1\n",
        "\n",
        "  print()\n",
        "  return labeled\n",
        "\n",
        "\n",
        "lab = assign_class_labels(comb)\n",
        "#print(lab)"
      ],
      "metadata": {
        "colab": {
          "base_uri": "https://localhost:8080/"
        },
        "id": "rIYti-eVsw7Y",
        "outputId": "99f2ace0-2341-4b72-99bc-bd4b5ae7527d"
      },
      "execution_count": 190,
      "outputs": [
        {
          "output_type": "stream",
          "name": "stdout",
          "text": [
            "Threshold is  0.11115304\n",
            "\n"
          ]
        }
      ]
    },
    {
      "cell_type": "markdown",
      "source": [
        "# Evaluate Risk Factor Clustering"
      ],
      "metadata": {
        "id": "1OHhRTBS-_Ax"
      }
    },
    {
      "cell_type": "code",
      "source": [
        "from prettytable import PrettyTable"
      ],
      "metadata": {
        "id": "30Bdg3K0Ibhy"
      },
      "execution_count": 191,
      "outputs": []
    },
    {
      "cell_type": "code",
      "source": [
        "gold_truth = [['gen_cat', 2],\n",
        " ['Hypertension_cat', 1],\n",
        " ['IHD_cat', 2],\n",
        " ['insulin_treatment_cat', 1],\n",
        " ['fam_his_diab_cat', 2],\n",
        " ['bp_sys', 1],\n",
        " ['Physical_AS_cat', 2],\n",
        " ['ann_family_in', 2],\n",
        " ['HbA1c_grade_cat', 1],\n",
        " ['agegrp_cat', 2],\n",
        " ['BMIcat', 2],\n",
        " ['DurYrs', 1],\n",
        " ['FBS_Grp_cat', 1]]\n"
      ],
      "metadata": {
        "id": "V4ukiNQx_ol-"
      },
      "execution_count": 192,
      "outputs": []
    },
    {
      "cell_type": "code",
      "source": [
        "def confusion(labeled, gold_truth):\n",
        "  i = 0\n",
        "  tp = 0\n",
        "  tn = 0\n",
        "  fp = 0\n",
        "  fn = 0\n",
        "  wrong_features = []\n",
        "\n",
        "  for pairs in  gold_truth:\n",
        "    a = labeled[i][1].astype(int) # Predicted\n",
        "    b = np.int64(pairs[1]) # Actual\n",
        "    \n",
        "    if (a == 1 and b==1):\n",
        "      tp = tp+1\n",
        "    elif(a==2 and b==2):\n",
        "      tn = tn+1\n",
        "    elif(a==1 and b==2):\n",
        "      fp = fp+1\n",
        "      wrong_features.append([pairs[0], i])\n",
        "    elif (a==2 and b==1):\n",
        "      fn = fn + 1\n",
        "      wrong_features.append([pairs[0], i])\n",
        "    \n",
        "    i = i+1\n",
        "\n",
        "  table = PrettyTable(['', 'Actual Primary', 'Actual Secondary'])\n",
        "  table.add_row(['Predicted Primary', tp, fp])\n",
        "  table.add_row(['Predicted Secondary', fn, tn])\n",
        "  return table, tp, tn, fp, fn, wrong_features\n",
        "\n"
      ],
      "metadata": {
        "id": "JqjrtrBRHSHJ"
      },
      "execution_count": 193,
      "outputs": []
    },
    {
      "cell_type": "code",
      "source": [
        "def comparison_table(lab, gold_truth):\n",
        "  table = PrettyTable(['Risk Factor', 'Actual', 'Predicted', 'Correctness'])\n",
        "  i = 0\n",
        "  for pairs in  gold_truth:\n",
        "    a = lab[i][1].astype(int)\n",
        "    b = np.int64(pairs[1])\n",
        "    correct = \"Correct\" if a==b else \"Wrong\"\n",
        "    table.add_row([pairs[0], b, a, correct])\n",
        "    i = i+1\n",
        "\n",
        "  confusion_mat, tp, tn, fp, fn, wrongs = confusion(lab, gold_truth)\n",
        "  print(\"Comparison Table:\")\n",
        "  print(table)\n",
        "\n",
        "  print(\"Wrongly Classified Features:\")\n",
        "  # print(wrongs)\n",
        "  [print('  ',thing) for thing, i in wrongs]\n",
        "  print()\n",
        "\n",
        "  print(\"Confusion Matrix:\")\n",
        "  print(confusion_mat)\n",
        "  \n",
        "  return tp, tn, fp, fn, wrongs "
      ],
      "metadata": {
        "id": "zVv3f5VXD8R-"
      },
      "execution_count": 194,
      "outputs": []
    },
    {
      "cell_type": "code",
      "source": [
        "tp, tn, fp, fn, wrongs = comparison_table(lab, gold_truth)\n",
        "print(\"Features in Correct clusters = \", tp+tn)\n",
        "print(\"Features in Wrong clusters = \", fp+fn)"
      ],
      "metadata": {
        "colab": {
          "base_uri": "https://localhost:8080/"
        },
        "id": "v0HTfPHbOQhV",
        "outputId": "d7b92a21-be85-4ec7-e64b-7301c047fc27"
      },
      "execution_count": 195,
      "outputs": [
        {
          "output_type": "stream",
          "name": "stdout",
          "text": [
            "Comparison Table:\n",
            "+-----------------------+--------+-----------+-------------+\n",
            "|      Risk Factor      | Actual | Predicted | Correctness |\n",
            "+-----------------------+--------+-----------+-------------+\n",
            "|        gen_cat        |   2    |     2     |   Correct   |\n",
            "|    Hypertension_cat   |   1    |     2     |    Wrong    |\n",
            "|        IHD_cat        |   2    |     2     |   Correct   |\n",
            "| insulin_treatment_cat |   1    |     1     |   Correct   |\n",
            "|    fam_his_diab_cat   |   2    |     2     |   Correct   |\n",
            "|         bp_sys        |   1    |     1     |   Correct   |\n",
            "|    Physical_AS_cat    |   2    |     1     |    Wrong    |\n",
            "|     ann_family_in     |   2    |     1     |    Wrong    |\n",
            "|    HbA1c_grade_cat    |   1    |     1     |   Correct   |\n",
            "|       agegrp_cat      |   2    |     2     |   Correct   |\n",
            "|         BMIcat        |   2    |     2     |   Correct   |\n",
            "|         DurYrs        |   1    |     2     |    Wrong    |\n",
            "|      FBS_Grp_cat      |   1    |     1     |   Correct   |\n",
            "+-----------------------+--------+-----------+-------------+\n",
            "Wrongly Classified Features:\n",
            "   Hypertension_cat\n",
            "   Physical_AS_cat\n",
            "   ann_family_in\n",
            "   DurYrs\n",
            "\n",
            "Confusion Matrix:\n",
            "+---------------------+----------------+------------------+\n",
            "|                     | Actual Primary | Actual Secondary |\n",
            "+---------------------+----------------+------------------+\n",
            "|  Predicted Primary  |       4        |        2         |\n",
            "| Predicted Secondary |       2        |        5         |\n",
            "+---------------------+----------------+------------------+\n",
            "Features in Correct clusters =  9\n",
            "Features in Wrong clusters =  4\n"
          ]
        }
      ]
    },
    {
      "cell_type": "markdown",
      "source": [
        "# Visualize Results"
      ],
      "metadata": {
        "id": "1EZzeZ-wUCeH"
      }
    },
    {
      "cell_type": "code",
      "source": [
        "import statistics\n",
        "threshold = statistics.median(score_weights)\n",
        "print(threshold)"
      ],
      "metadata": {
        "colab": {
          "base_uri": "https://localhost:8080/"
        },
        "id": "0ZwqbaHjQkd7",
        "outputId": "f37143d2-4568-48a8-9749-6d9c368035cb"
      },
      "execution_count": 196,
      "outputs": [
        {
          "output_type": "stream",
          "name": "stdout",
          "text": [
            "0.08938110619783401\n"
          ]
        }
      ]
    },
    {
      "cell_type": "code",
      "source": [
        "\n",
        "colors = []\n",
        "\n",
        "for i in range(inout_dims):\n",
        "  if(score_weights[i]>=threshold):\n",
        "  # Primary\n",
        "    colors.append('hotpink') \n",
        "  else:\n",
        "  # Secondary\n",
        "    colors.append('navy')"
      ],
      "metadata": {
        "id": "GjYrUzfxZ6VF"
      },
      "execution_count": 197,
      "outputs": []
    },
    {
      "cell_type": "code",
      "source": [
        "y_pos = np.arange(inout_dims)\n",
        "labels = column_names\n",
        "\n",
        "\n",
        "plt.figure(figsize=(9,3),dpi=100)\n",
        "\n",
        "# plt.scatter(y_pos, sorted[:,1])\n",
        "plt.scatter(y_pos, score_weights, c = colors)\n",
        "\n",
        "plt.axhline(y=threshold, color='cornflowerblue', linestyle='--')\n",
        "\n",
        "plt.title(\"Feature Selection using Autoencoders\")\n",
        "plt.xlabel(\"Features\")\n",
        "plt.ylabel(\"Weight\")\n",
        "\n",
        "plt.xticks(y_pos, labels, rotation = 90)\n",
        "for label, index in wrongs:\n",
        "  plt.gca().get_xticklabels()[index].set_color('red')\n",
        "\n",
        "plt.show()"
      ],
      "metadata": {
        "colab": {
          "base_uri": "https://localhost:8080/",
          "height": 465
        },
        "id": "ooJmbFjeVKPv",
        "outputId": "2e15bf62-0c36-4d51-ed76-a36714713f10"
      },
      "execution_count": 198,
      "outputs": [
        {
          "output_type": "display_data",
          "data": {
            "text/plain": [
              "<Figure size 900x300 with 1 Axes>"
            ],
            "image/png": "[encoded data removed]"
          },
          "metadata": {
            "needs_background": "light"
          }
        }
      ]
    }
  ]
}